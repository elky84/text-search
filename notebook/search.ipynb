{
 "cells": [
  {
   "cell_type": "code",
   "execution_count": 1,
   "metadata": {},
   "outputs": [
    {
     "name": "stdout",
     "output_type": "stream",
     "text": [
      "cannot find .env file\n"
     ]
    }
   ],
   "source": [
    "%load_ext dotenv\n",
    "%dotenv ../.env\n",
    "%dotenv ../.env.local"
   ]
  },
  {
   "cell_type": "code",
   "execution_count": 2,
   "metadata": {},
   "outputs": [
    {
     "name": "stdout",
     "output_type": "stream",
     "text": [
      "['c:\\\\works\\\\text-search\\\\notebook', 'C:\\\\Users\\\\elky8\\\\AppData\\\\Local\\\\Programs\\\\Python\\\\Python311\\\\python311.zip', 'C:\\\\Users\\\\elky8\\\\AppData\\\\Local\\\\Programs\\\\Python\\\\Python311\\\\DLLs', 'C:\\\\Users\\\\elky8\\\\AppData\\\\Local\\\\Programs\\\\Python\\\\Python311\\\\Lib', 'C:\\\\Users\\\\elky8\\\\AppData\\\\Local\\\\Programs\\\\Python\\\\Python311', 'c:\\\\works\\\\text-search\\\\venv', '', 'c:\\\\works\\\\text-search\\\\venv\\\\Lib\\\\site-packages', 'c:\\\\works\\\\text-search\\\\venv\\\\Lib\\\\site-packages\\\\win32', 'c:\\\\works\\\\text-search\\\\venv\\\\Lib\\\\site-packages\\\\win32\\\\lib', 'c:\\\\works\\\\text-search\\\\venv\\\\Lib\\\\site-packages\\\\Pythonwin', '../']\n"
     ]
    }
   ],
   "source": [
    "# Setup python module path for using local modules\n",
    "import sys\n",
    "sys.path.append('../')\n",
    "print(sys.path)"
   ]
  },
  {
   "cell_type": "code",
   "execution_count": 3,
   "metadata": {},
   "outputs": [
    {
     "data": {
      "text/plain": [
       "False"
      ]
     },
     "execution_count": 3,
     "metadata": {},
     "output_type": "execute_result"
    }
   ],
   "source": [
    "\n",
    "from dotenv import load_dotenv\n",
    "\n",
    "load_dotenv()\n",
    "load_dotenv(\".env.local\")"
   ]
  },
  {
   "cell_type": "code",
   "execution_count": 4,
   "metadata": {},
   "outputs": [
    {
     "name": "stdout",
     "output_type": "stream",
     "text": [
      "Requirement already satisfied: markdown-it-py in c:\\works\\text-search\\venv\\lib\\site-packages (3.0.0)\n",
      "Requirement already satisfied: mdurl~=0.1 in c:\\works\\text-search\\venv\\lib\\site-packages (from markdown-it-py) (0.1.2)\n",
      "Note: you may need to restart the kernel to use updated packages.\n"
     ]
    }
   ],
   "source": [
    "%pip install markdown-it-py"
   ]
  },
  {
   "cell_type": "code",
   "execution_count": 5,
   "metadata": {},
   "outputs": [],
   "source": [
    "import os\n",
    "import glob\n",
    "import markdown_it\n",
    "\n",
    "md = markdown_it.MarkdownIt()\n",
    "\n",
    "def find_lines_with_string(file_path, search_string):\n",
    "    with open(file_path, 'r', encoding='utf-8') as file:\n",
    "        lines = file.readlines()\n",
    "        for line_number, line in enumerate(lines, start=1):\n",
    "            if search_string in line:\n",
    "                print(f\"{file_path} - Line {line_number}: {line.strip()}\")\n",
    "\n",
    "def search_in_markdown_files(folder_path, search_string):\n",
    "    markdown_files = glob.glob(os.path.join(folder_path, \"*.md\"))\n",
    "    for file_path in markdown_files:\n",
    "        find_lines_with_string(file_path, search_string)"
   ]
  },
  {
   "cell_type": "code",
   "execution_count": 6,
   "metadata": {},
   "outputs": [
    {
     "name": "stdout",
     "output_type": "stream",
     "text": [
      "..\\markdown\n",
      "..\\markdown\\test.md - Line 3: Hello, World!\n"
     ]
    }
   ],
   "source": [
    "folder_path = os.environ['target_path']\n",
    "search_string = os.environ['find_text']\n",
    "\n",
    "folder_path = os.path.join(\"..\", folder_path)\n",
    "\n",
    "if __name__ == \"__main__\":\n",
    "    search_in_markdown_files(folder_path, search_string)"
   ]
  }
 ],
 "metadata": {
  "kernelspec": {
   "display_name": ".venv",
   "language": "python",
   "name": "python3"
  },
  "language_info": {
   "codemirror_mode": {
    "name": "ipython",
    "version": 3
   },
   "file_extension": ".py",
   "mimetype": "text/x-python",
   "name": "python",
   "nbconvert_exporter": "python",
   "pygments_lexer": "ipython3",
   "version": "3.11.4"
  },
  "orig_nbformat": 4
 },
 "nbformat": 4,
 "nbformat_minor": 2
}
